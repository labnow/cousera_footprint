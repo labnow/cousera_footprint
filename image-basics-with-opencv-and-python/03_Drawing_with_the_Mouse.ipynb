{
 "cells": [
  {
   "cell_type": "code",
   "execution_count": 2,
   "metadata": {},
   "outputs": [],
   "source": [
    "# Import Libraries\n",
    "import cv2\n",
    "import numpy as np\n",
    "\n",
    "\n",
    "# Function\n",
    "# x,y, flags, param are feed from OpenCV automaticaly\n",
    "def draw_circle(event, x, y, flags, param):\n",
    "    if event == cv2.EVENT_LBUTTONDOWN:\n",
    "        cv2.circle(img,(x,y), radius=70, color=(255,0,0),thickness=3)\n",
    "\n",
    "\n",
    "\n",
    "# Connect the Function with the Callback\n",
    "cv2.namedWindow(winname='my_drawing')\n",
    "\n",
    "\n",
    "# Callback\n",
    "cv2.setMouseCallback('my_drawing', draw_circle)\n",
    "\n",
    "# Using OpenCV to show the Image\n",
    "img = np.zeros((512,512,3),dtype=np.int8)\n",
    "\n",
    "while True:\n",
    "    cv2.imshow('my_drawing', img)\n",
    "    if cv2.waitKey(5) & 0xFF == 27:\n",
    "        break\n",
    "\n",
    "cv2.destroyAllWindows()\n",
    "\n",
    "\n",
    "\n"
   ]
  },
  {
   "cell_type": "code",
   "execution_count": null,
   "metadata": {},
   "outputs": [],
   "source": []
  }
 ],
 "metadata": {
  "interpreter": {
   "hash": "5a14e200992a12e41f2948bd288d5b3363ccb62e3840a0097cda70ce578b2ba6"
  },
  "kernelspec": {
   "display_name": "Python 3.8.10 ('.env': venv)",
   "language": "python",
   "name": "python3"
  },
  "language_info": {
   "codemirror_mode": {
    "name": "ipython",
    "version": 3
   },
   "file_extension": ".py",
   "mimetype": "text/x-python",
   "name": "python",
   "nbconvert_exporter": "python",
   "pygments_lexer": "ipython3",
   "version": "3.8.10"
  }
 },
 "nbformat": 4,
 "nbformat_minor": 4
}
